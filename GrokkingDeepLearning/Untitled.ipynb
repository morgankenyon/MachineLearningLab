{
 "cells": [
  {
   "cell_type": "code",
   "execution_count": 14,
   "metadata": {},
   "outputs": [
    {
     "name": "stdout",
     "output_type": "stream",
     "text": [
      "0.8500000000000001\n"
     ]
    }
   ],
   "source": [
    "\n",
    "def neural_network(input, weight):\n",
    "    prediction = input * weight\n",
    "    return prediction\n",
    "\n",
    "weight = 0.1\n",
    "number_of_toes = 8.5\n",
    "pred = neural_network(number_of_toes, weight)\n",
    "print (pred)"
   ]
  },
  {
   "cell_type": "code",
   "execution_count": 15,
   "metadata": {},
   "outputs": [
    {
     "name": "stdout",
     "output_type": "stream",
     "text": [
      "0.9800000000000001\n"
     ]
    }
   ],
   "source": [
    "def w_sum(a, b):\n",
    "    assert(len(a) == len(b))\n",
    "    \n",
    "    output = 0\n",
    "    for i in range(len(a)):\n",
    "        output += (a[i] * b[i])\n",
    "    return output\n",
    "def neural_network(input, weights):\n",
    "    prediction = w_sum(input, weights)\n",
    "    return prediction\n",
    "weights = [0.1, 0.2, 0]\n",
    "toes = [8.5, 9.5, 9.9, 9.0]\n",
    "wlrec = [0.65, 0.8, 0.8, 0.9]\n",
    "nfans = [1.2, 1.3, 0.5, 1.0]\n",
    "input = [toes[0], wlrec[0], nfans[0]]\n",
    "\n",
    "pred = neural_network(input, weights)\n",
    "print (pred)"
   ]
  },
  {
   "cell_type": "code",
   "execution_count": 16,
   "metadata": {},
   "outputs": [
    {
     "name": "stdout",
     "output_type": "stream",
     "text": [
      "[0.195, 0.13, 0.5850000000000001]\n"
     ]
    }
   ],
   "source": [
    "def ele_mul(input, vector):\n",
    "    output = [0,0,0]\n",
    "    assert(len(output) == len(vector))\n",
    "    for i in range(len(vector)):\n",
    "        output[i] = input * vector[i]\n",
    "    return output\n",
    "\n",
    "def neural_network(input, weights):\n",
    "    prediction = ele_mul(input, weights)\n",
    "    return prediction\n",
    "\n",
    "weights = [0.3, 0.2, 0.9]\n",
    "wlrec = [0.65, 0.8, 0.8, 0.9]\n",
    "input = wlrec[0]\n",
    "pred = neural_network(input, weights)\n",
    "print (pred)"
   ]
  },
  {
   "cell_type": "code",
   "execution_count": 13,
   "metadata": {},
   "outputs": [
    {
     "name": "stdout",
     "output_type": "stream",
     "text": [
      "[0.555, 0.9800000000000001, 0.9650000000000001]\n"
     ]
    }
   ],
   "source": [
    "def w_sum(a, b):\n",
    "    assert(len(a) == len(b))\n",
    "    output = 0\n",
    "    for i in range(len(a)):\n",
    "        output += (a[i] * b[i])\n",
    "    return output\n",
    "\n",
    "def vect_math_mul(vector, matrix):\n",
    "    assert(len(vector) == len(matrix))\n",
    "    output = [0,0,0]\n",
    "    for i in range(len(vector)):\n",
    "        output[i] = w_sum(vector, matrix[i])\n",
    "    return output\n",
    "\n",
    "def neural_network(input, weights):\n",
    "    prediction = vect_math_mul(input, weights)\n",
    "    return prediction\n",
    "\n",
    "weights = [ [0.1, 0.1, -0.3], # hurt?\n",
    "         [0.1, 0.2, 0.0], # win?\n",
    "         [0.0, 1.3, 0.1] ] # sad?\n",
    "toes = [8.5, 9.5, 9.9, 9.0]\n",
    "wlrec = [0.65,0.8, 0.8, 0.9]\n",
    "nfans = [1.2, 1.3, 0.5, 1.0]\n",
    "input = [toes[0], wlrec[0], nfans[0]]\n",
    "\n",
    "pred = neural_network(input, weights)\n",
    "print (pred)"
   ]
  },
  {
   "cell_type": "code",
   "execution_count": 17,
   "metadata": {},
   "outputs": [
    {
     "name": "stdout",
     "output_type": "stream",
     "text": [
      "Error:0.30250000000000005, Prediction:0.25\n",
      "Error:0.17015625000000004, Prediction:0.3875\n",
      "Error:0.095712890625, Prediction:0.49062500000000003\n",
      "Error:0.05383850097656251, Prediction:0.56796875\n",
      "Error:0.03028415679931642, Prediction:0.6259765625\n",
      "Error:0.0170348381996155, Prediction:0.669482421875\n",
      "Error:0.00958209648728372, Prediction:0.70211181640625\n",
      "Error:0.005389929274097089, Prediction:0.7265838623046875\n",
      "Error:0.0030318352166796153, Prediction:0.7449378967285156\n",
      "Error:0.0017054073093822882, Prediction:0.7587034225463867\n",
      "Error:0.0009592916115275371, Prediction:0.76902756690979\n",
      "Error:0.0005396015314842384, Prediction:0.7767706751823426\n",
      "Error:0.000303525861459885, Prediction:0.7825780063867569\n",
      "Error:0.00017073329707118678, Prediction:0.7869335047900676\n",
      "Error:9.603747960254256e-05, Prediction:0.7902001285925507\n",
      "Error:5.402108227642978e-05, Prediction:0.7926500964444131\n",
      "Error:3.038685878049206e-05, Prediction:0.7944875723333098\n",
      "Error:1.7092608064027242e-05, Prediction:0.7958656792499823\n",
      "Error:9.614592036015323e-06, Prediction:0.7968992594374867\n",
      "Error:5.408208020258491e-06, Prediction:0.7976744445781151\n"
     ]
    }
   ],
   "source": [
    "weight = 0.5\n",
    "goal_pred = 0.8\n",
    "input = 0.5\n",
    "\n",
    "for iteration in range(20):\n",
    "    pred = input * weight\n",
    "    error = (pred - goal_pred) ** 2\n",
    "    direction_and_amount = (pred - goal_pred) * input\n",
    "    weight = weight - direction_and_amount\n",
    "    \n",
    "    print (\"Error:\" + str(error) + \", Prediction:\" + str(pred))"
   ]
  },
  {
   "cell_type": "code",
   "execution_count": 24,
   "metadata": {},
   "outputs": [
    {
     "name": "stdout",
     "output_type": "stream",
     "text": [
      "Error:0.6400000000000001, Pred:0.0\n",
      "Error:0.3600000000000001, Pred:0.2\n",
      "Error:0.2025, Pred:0.35000000000000003\n",
      "Error:0.11390625000000001, Pred:0.4625\n",
      "Error:0.06407226562500003, Pred:0.546875\n",
      "Error:0.036040649414062535, Pred:0.61015625\n",
      "Error:0.020272865295410177, Pred:0.6576171875\n",
      "Error:0.011403486728668217, Pred:0.693212890625\n",
      "Error:0.006414461284875877, Pred:0.71990966796875\n",
      "Error:0.0036081344727426873, Pred:0.7399322509765625\n",
      "Error:0.0020295756409177616, Pred:0.7549491882324219\n",
      "Error:0.001141636298016239, Pred:0.7662118911743164\n",
      "Error:0.0006421704176341359, Pred:0.7746589183807373\n",
      "Error:0.00036122085991920354, Pred:0.7809941887855529\n",
      "Error:0.000203186733704552, Pred:0.7857456415891647\n",
      "Error:0.0001142925377088099, Pred:0.7893092311918736\n",
      "Error:6.428955246120602e-05, Pred:0.7919819233939052\n",
      "Error:3.616287325942905e-05, Pred:0.7939864425454288\n",
      "Error:2.034161620842884e-05, Pred:0.7954898319090716\n",
      "Error:1.1442159117241035e-05, Pred:0.7966173739318038\n"
     ]
    }
   ],
   "source": [
    "weight = 0.0\n",
    "goal_pred = 0.8\n",
    "input = 0.5\n",
    "\n",
    "for iteration in range(20):\n",
    "    pred = input * weight\n",
    "    error = (pred - goal_pred) ** 2\n",
    "    delta = pred - goal_pred\n",
    "    weight_delta = delta * input\n",
    "    weight = weight - weight_delta\n",
    "    print (\"Error:\" + str(error) + \", Pred:\" + str(pred))"
   ]
  },
  {
   "cell_type": "code",
   "execution_count": 30,
   "metadata": {},
   "outputs": [
    {
     "name": "stdout",
     "output_type": "stream",
     "text": [
      "Error:0.03999999999999998, Pred: 1.0\n",
      "Error:0.001600000000000003, Pred: 0.8400000000000001\n",
      "Error:6.400000000000012e-05, Pred: 0.808\n",
      "Error:2.5600000000001466e-06, Pred: 0.8016000000000001\n",
      "Error:1.0239999999999165e-07, Pred: 0.80032\n",
      "Error:4.095999999993982e-09, Pred: 0.800064\n",
      "Error:1.6384000000089615e-10, Pred: 0.8000128000000001\n",
      "Error:6.553599999922159e-12, Pred: 0.80000256\n",
      "Error:2.6214399995141164e-13, Pred: 0.800000512\n",
      "Error:1.0485760007151412e-14, Pred: 0.8000001024000001\n",
      "Error:4.1943040119555116e-16, Pred: 0.8000000204800001\n",
      "Error:1.6777215865923107e-17, Pred: 0.800000004096\n",
      "Error:6.710887073965021e-19, Pred: 0.8000000008192001\n",
      "Error:2.6843562847778015e-20, Pred: 0.8000000001638401\n",
      "Error:1.0737425139111206e-21, Pred: 0.800000000032768\n",
      "Error:4.295028263521311e-23, Pred: 0.8000000000065537\n",
      "Error:1.7180113054085245e-24, Pred: 0.8000000000013108\n",
      "Error:6.870881109457025e-26, Pred: 0.8000000000002622\n",
      "Error:2.746024811074342e-27, Pred: 0.8000000000000524\n",
      "Error:1.0891210872707594e-28, Pred: 0.8000000000000105\n"
     ]
    }
   ],
   "source": [
    "weight = 0.5\n",
    "goal_pred = 0.8\n",
    "input = 2\n",
    "alpha = 0.2\n",
    "\n",
    "for interation in range(20):\n",
    "    pred = input * weight\n",
    "    error = (pred - goal_pred) ** 2\n",
    "    derivative = input * (pred - goal_pred)\n",
    "    weight = weight - (alpha * derivative)\n",
    "    \n",
    "    print (\"Error:\" + str(error) + \", Pred: \" + str(pred))"
   ]
  }
 ],
 "metadata": {
  "kernelspec": {
   "display_name": "Python 3",
   "language": "python",
   "name": "python3"
  },
  "language_info": {
   "codemirror_mode": {
    "name": "ipython",
    "version": 3
   },
   "file_extension": ".py",
   "mimetype": "text/x-python",
   "name": "python",
   "nbconvert_exporter": "python",
   "pygments_lexer": "ipython3",
   "version": "3.7.6"
  }
 },
 "nbformat": 4,
 "nbformat_minor": 4
}
