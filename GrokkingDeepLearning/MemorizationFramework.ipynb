{
 "cells": [
  {
   "cell_type": "code",
   "execution_count": null,
   "metadata": {},
   "outputs": [],
   "source": [
    "# single input, single output\n",
    "\n",
    "weight = 0.1\n",
    "number_of_toes = 8.5\n",
    "pred = neural_network(number_of_toes, weight)\n",
    "print (pred)\n",
    "# 0.8500000000000001"
   ]
  },
  {
   "cell_type": "code",
   "execution_count": null,
   "metadata": {},
   "outputs": [],
   "source": [
    "# multiple input, single output\n",
    "\n",
    "weights = [0.1, 0.2, 0]\n",
    "toes = [8.5, 9.5, 9.9, 9.0]\n",
    "wlrec = [0.65, 0.8, 0.8, 0.9]\n",
    "nfans = [1.2, 1.3, 0.5, 1.0]\n",
    "input = [toes[0], wlrec[0], nfans[0]]\n",
    "\n",
    "pred = neural_network(input, weights)\n",
    "print (pred)\n",
    "# 0.9800000000000001"
   ]
  },
  {
   "cell_type": "code",
   "execution_count": null,
   "metadata": {},
   "outputs": [],
   "source": [
    "# single input, multiple output\n",
    "\n",
    "weights = [0.3, 0.2, 0.9]\n",
    "wlrec = [0.65, 0.8, 0.8, 0.9]\n",
    "input = wlrec[0]\n",
    "pred = neural_network(input, weights)\n",
    "print (pred)\n",
    "# [0.195, 0.13, 0.5850000000000001]"
   ]
  },
  {
   "cell_type": "code",
   "execution_count": null,
   "metadata": {},
   "outputs": [],
   "source": [
    "# multiple input, multiple output\n",
    "\n",
    "weights = [ [0.1, 0.1, -0.3], # hurt?\n",
    "         [0.1, 0.2, 0.0], # win?\n",
    "         [0.0, 1.3, 0.1] ] # sad?\n",
    "toes = [8.5, 9.5, 9.9, 9.0]\n",
    "wlrec = [0.65,0.8, 0.8, 0.9]\n",
    "nfans = [1.2, 1.3, 0.5, 1.0]\n",
    "input = [toes[0], wlrec[0], nfans[0]]\n",
    "\n",
    "pred = neural_network(input, weights)\n",
    "print (pred)\n",
    "# [0.555, 0.9800000000000001, 0.9650000000000001]"
   ]
  },
  {
   "cell_type": "code",
   "execution_count": 2,
   "metadata": {},
   "outputs": [
    {
     "name": "stdout",
     "output_type": "stream",
     "text": [
      "Error:0.03999999999999998, Pred:1.0\n",
      "Error:0.001600000000000003, Pred:0.8400000000000001\n",
      "Error:6.400000000000012e-05, Pred:0.808\n",
      "Error:2.5600000000001466e-06, Pred:0.8016000000000001\n",
      "Error:1.0239999999999165e-07, Pred:0.80032\n",
      "Error:4.095999999993982e-09, Pred:0.800064\n",
      "Error:1.6384000000089615e-10, Pred:0.8000128000000001\n",
      "Error:6.553599999922159e-12, Pred:0.80000256\n",
      "Error:2.6214399995141164e-13, Pred:0.800000512\n",
      "Error:1.0485760007151412e-14, Pred:0.8000001024000001\n",
      "Error:4.1943040119555116e-16, Pred:0.8000000204800001\n",
      "Error:1.6777215865923107e-17, Pred:0.800000004096\n",
      "Error:6.710887073965021e-19, Pred:0.8000000008192001\n",
      "Error:2.6843562847778015e-20, Pred:0.8000000001638401\n",
      "Error:1.0737425139111206e-21, Pred:0.800000000032768\n",
      "Error:4.295028263521311e-23, Pred:0.8000000000065537\n",
      "Error:1.7180113054085245e-24, Pred:0.8000000000013108\n",
      "Error:6.870881109457025e-26, Pred:0.8000000000002622\n",
      "Error:2.746024811074342e-27, Pred:0.8000000000000524\n",
      "Error:1.0891210872707594e-28, Pred:0.8000000000000105\n"
     ]
    }
   ],
   "source": [
    "# gradient descent\n",
    "\n",
    "weight = 0.5\n",
    "goal_pred = 0.8\n",
    "input = 2\n",
    "alpha = 0.2\n",
    "\n",
    "# Error:0.03999999999999998, Pred:1.0\n",
    "# Error:0.001600000000000003, Pred:0.8400000000000001\n",
    "# Error:6.400000000000012e-05, Pred:0.808\n",
    "# Error:2.5600000000001466e-06, Pred:0.8016000000000001\n",
    "# Error:1.0239999999999165e-07, Pred:0.80032\n",
    "# Error:4.095999999993982e-09, Pred:0.800064"
   ]
  }
 ],
 "metadata": {
  "kernelspec": {
   "display_name": "Python 3",
   "language": "python",
   "name": "python3"
  },
  "language_info": {
   "codemirror_mode": {
    "name": "ipython",
    "version": 3
   },
   "file_extension": ".py",
   "mimetype": "text/x-python",
   "name": "python",
   "nbconvert_exporter": "python",
   "pygments_lexer": "ipython3",
   "version": "3.7.6"
  }
 },
 "nbformat": 4,
 "nbformat_minor": 4
}
