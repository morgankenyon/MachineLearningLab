{
 "cells": [
  {
   "cell_type": "code",
   "execution_count": null,
   "metadata": {},
   "outputs": [],
   "source": [
    "#adder, 2 inputs, 3 outputs\n",
    "#0 + 0 = 0,     0, 0, 1, 0, 0\n",
    "#0 + 1 = 1,     0, 1, 0, 1, 0\n",
    "#1 + 0 = 1,     1, 0, 0, 1, 0\n",
    "#1 + 1 = 2,     1, 1, 0, 0, 1\n",
    "\n",
    "training = [[0, 0],\n",
    "            [0, 1],\n",
    "            [1, 0],\n",
    "            [1, 1]]\n",
    "\n",
    "goal_pred = [[1, 0, 0],\n",
    "             [0, 1, 0],\n",
    "             [0, 1, 0],\n",
    "             [0, 0, 1]]\n",
    "\n",
    "\n",
    "\n",
    "def neural_network(input, weights):\n",
    "    \n",
    "\n",
    "answer = training[0]\n",
    "\n",
    "    \n",
    "weights = [  [0.1, 0.1, -0.3],# first number\n",
    "             [0.1, 0.2, 0.0] ]# second number"
   ]
  }
 ],
 "metadata": {
  "kernelspec": {
   "display_name": "Python 3",
   "language": "python",
   "name": "python3"
  },
  "language_info": {
   "codemirror_mode": {
    "name": "ipython",
    "version": 3
   },
   "file_extension": ".py",
   "mimetype": "text/x-python",
   "name": "python",
   "nbconvert_exporter": "python",
   "pygments_lexer": "ipython3",
   "version": "3.7.6"
  }
 },
 "nbformat": 4,
 "nbformat_minor": 4
}
